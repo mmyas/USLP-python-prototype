{
 "cells": [
  {
   "cell_type": "code",
   "execution_count": 24,
   "id": "74793371",
   "metadata": {},
   "outputs": [
    {
     "name": "stdout",
     "output_type": "stream",
     "text": [
      "Sent packet with QoS 1: b'\\x001\\x01Hi. This message will be segmented into smaller '\n",
      "Sent packet with QoS 1: b'\\x001\\x01packets according to the MAP processing function'\n",
      "Sent packet with QoS 1: b'\\x00\\x12\\x01 from USLP frame.'\n"
     ]
    }
   ],
   "source": [
    "#Note Run receiver code in one\n",
    "#    desktop and then this sender code need to be run in another device with proper host and port label which can \n",
    "#    secure the connection between the two devices and send data properly.\n",
    "\"\"\"\n",
    "    Protocol procedure at the sending end as described in USLP section 4.2 \n",
    "    MAP Packet Service (MAP Packet Processing) and MAP Access Service (MAPA_SDU Generation)\n",
    "    have been implemented here and the code given for sender. \n",
    "    \n",
    "    The MAP Packet Processing Function is crucial for handling the multiplexing of data packets onto the physical link. \n",
    "    It involves segmenting higher-level data packets into smaller packets suitable for transmission, \n",
    "    potentially adding headers for identification, and managing the transmission order.\n",
    "    \n",
    "     The MAPA_SDU (Service Data Unit) is essentially the data unit that the MAP accepts for processing, \n",
    "     potentially including additional information for managing transmission, such as Quality of Service (QoS) parameters.\n",
    "    \n",
    "    \"\"\"\n",
    "\n",
    "def map_packet_processing(data, max_payload_size=48, qos=1):\n",
    "    \"\"\"\n",
    "    MAP Packet Processing Function by segmenting data into MAPA_SDUs, each with a QoS byte.\n",
    "    :param max_payload_size: The maximum payload size for each MAPA_SDU.\n",
    "    :param qos: Quality of Service byte (simplified to a single byte for priority).\n",
    "    :return: A list of MAPA_SDUs ready for transmission.\n",
    "    \"\"\"\n",
    "    mapas = []\n",
    "    for i in range(0, len(data), max_payload_size):\n",
    "        segment = data[i:i+max_payload_size]\n",
    "        packet_length = len(segment) + 1  # +1 for the QoS byte\n",
    "        header = packet_length.to_bytes(2, byteorder='big')\n",
    "        mapas.append(header + qos.to_bytes(1, byteorder='big') + segment.encode('utf-8'))\n",
    "    return mapas\n",
    "\n",
    "import socket\n",
    "\n",
    "def send_data(data, host='localhost', port=12345, qos=1):\n",
    "    packets = map_packet_processing(data, qos=qos)\n",
    "    with socket.socket(socket.AF_INET, socket.SOCK_STREAM) as s:\n",
    "        s.connect((host, port))\n",
    "        for packet in packets:\n",
    "            s.sendall(packet)\n",
    "            print(f\"Sent packet with QoS {qos}: {packet}\")\n",
    "\n",
    "if __name__ == \"__main__\":\n",
    "    send_data(\"Hi. This message will be segmented into smaller packets according to the MAP processing function from USLP frame.\")\n",
    "\n"
   ]
  },
  {
   "cell_type": "code",
   "execution_count": 25,
   "id": "89372722",
   "metadata": {},
   "outputs": [
    {
     "name": "stdout",
     "output_type": "stream",
     "text": [
      "Sent USLP Frame: 00000001546869732069732061206c6f6e676572206d65737361676520746861742077696c6c206265207365676d656e74656420696e746f20736d616c6c6572207061636b657473206163636f7264696e6720746f20746865204d41502070726f63657373696e672066756e6374696f6e2eb7d3\n"
     ]
    }
   ],
   "source": [
    "\"\"\"\n",
    "    USLP TRANSFER FRAME as described in USLP section 4.1\n",
    "    A USLP Transfer Frame shall encompass the major fields, positioned contiguously, in the following sequence:\n",
    "a) Transfer Frame Primary Header (4 to 14 octets, mandatory);\n",
    "b) Transfer Frame Insert Zone (integral number of octets, optional);\n",
    "c) Transfer Frame Data Field (integral number of octets, mandatory);\n",
    "d) Operational Control Field (4 octets, optional); and\n",
    "e) Frame Error Control Field (2 octets, optional).\n",
    "Here I implemented part a,c,e in this code for simplicity and the frame is checked accordingly.\n",
    "This is the sender code which need to be implemented in one\n",
    "    desktop and the receiver code need to be run in another device with proper host and port label which can \n",
    "    secure the connection between the two devices and send data properly.\n",
    "    \"\"\"\n",
    "import socket\n",
    "import crcmod\n",
    "import struct\n",
    "\n",
    "# CRC-16-CCITT function\n",
    "crc16_func = crcmod.predefined.mkPredefinedCrcFun('crc-ccitt-false')\n",
    "def create_primary_header(frame_count, version_number=0, spacecraft_id=0, virtual_channel_id=0):\n",
    "    \"\"\"\n",
    "    Creates a simple USLP Primary Header.\n",
    "    :param version_number: Version of the USLP protocol.\n",
    "    :param spacecraft_id: Identifier for the spacecraft.\n",
    "    :param virtual_channel_id: Virtual channel identifier.\n",
    "    \"\"\"\n",
    "    # Simplified example: 4 bytes total for demonstration\n",
    "    # Adjust sizes and bit packing as per your specific protocol details\n",
    "    header_bytes = struct.pack('>BBBB', version_number, spacecraft_id, virtual_channel_id, frame_count)\n",
    "    return header_bytes\n",
    "def create_uslp_frame(data, frame_count):\n",
    "    primary_header = create_primary_header(frame_count)\n",
    "    data_field = data  # Assuming data is already in bytes format\n",
    "    # Calculate CRC (FECF) over header and data field\n",
    "    crc_input = primary_header + data_field\n",
    "    crc_value = crc16_func(crc_input)\n",
    "    # Append CRC as FECF (2 bytes)\n",
    "    fecf = struct.pack('>H', crc_value)\n",
    "    return primary_header + data_field + fecf\n",
    "\n",
    "def send_uslp_frame(data, host='localhost', port=12345, qos=1):\n",
    "    packets = map_packet_processing(data, qos=qos)\n",
    "    with socket.socket(socket.AF_INET, socket.SOCK_STREAM) as sock:\n",
    "        sock.connect((host, port))\n",
    "        frame_count = 1  # Example frame count\n",
    "        uslp_frame = create_uslp_frame(data.encode('utf-8'), frame_count)\n",
    "        sock.sendall(uslp_frame)\n",
    "        print(\"Sent USLP Frame:\", uslp_frame.hex())\n",
    "\n",
    "if __name__ == \"__main__\":\n",
    "    send_uslp_frame(\"This is a longer message that will be segmented into smaller packets according to the MAP processing function.\")\n"
   ]
  }
 ],
 "metadata": {
  "kernelspec": {
   "display_name": "Python 3 (ipykernel)",
   "language": "python",
   "name": "python3"
  },
  "language_info": {
   "codemirror_mode": {
    "name": "ipython",
    "version": 3
   },
   "file_extension": ".py",
   "mimetype": "text/x-python",
   "name": "python",
   "nbconvert_exporter": "python",
   "pygments_lexer": "ipython3",
   "version": "3.8.5"
  }
 },
 "nbformat": 4,
 "nbformat_minor": 5
}
