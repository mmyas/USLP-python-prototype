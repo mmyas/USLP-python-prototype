{
 "cells": [
  {
   "cell_type": "code",
   "execution_count": 23,
   "id": "6c8415d7",
   "metadata": {},
   "outputs": [
    {
     "name": "stdout",
     "output_type": "stream",
     "text": [
      "Connected by ('127.0.0.1', 62895)\n",
      "Received packet with QoS 1: Hi. This message will be segmented into smaller \n",
      "Received packet with QoS 1: packets according to the MAP processing function\n",
      "Received packet with QoS 1:  from USLP frame.\n",
      "Complete message: Hi. This message will be segmented into smaller packets according to the MAP processing function from USLP frame.\n"
     ]
    }
   ],
   "source": [
    "#Note This is the receiver code which need to be implemented in one\n",
    "#    desktop and then sender code need to be run in another device with proper host and port label which can \n",
    "#    secure the connection between the two devices and send data properly.\n",
    "\"\"\"\n",
    "    Protocol procedure at the sending end as described in USLP section 4.2 \n",
    "    MAP Packet Service (MAP Packet Processing) and MAP Access Service (MAPA_SDU Generation)\n",
    "    have been implemented here and the code given for sender. For more information on the services refer comment in sender code.\n",
    "\n",
    "    \"\"\"\n",
    "import socket\n",
    "\n",
    "def receive_data(host='localhost', port=12345):\n",
    "    with socket.socket(socket.AF_INET, socket.SOCK_STREAM) as s:\n",
    "        s.bind((host, port))\n",
    "        s.listen()\n",
    "        conn, addr = s.accept()\n",
    "        with conn:\n",
    "            print(f\"Connected by {addr}\")\n",
    "            message_parts = []\n",
    "            while True:\n",
    "                header = conn.recv(2)\n",
    "                if not header:\n",
    "                    break \n",
    "                payload_length = int.from_bytes(header, byteorder='big') - 1  # QoS (Quality of Service) byte\n",
    "                qos = int.from_bytes(conn.recv(1), byteorder='big')  # Read QoS byte\n",
    "                payload = conn.recv(payload_length).decode('utf-8')\n",
    "                message_parts.append(payload)\n",
    "                print(f\"Received packet with QoS {qos}: {payload}\")\n",
    "            message = ''.join(message_parts)\n",
    "            print(f\"Complete message: {message}\")\n",
    "\n",
    "if __name__ == \"__main__\":\n",
    "    receive_data()\n"
   ]
  },
  {
   "cell_type": "code",
   "execution_count": 24,
   "id": "37bce49a",
   "metadata": {},
   "outputs": [
    {
     "name": "stdout",
     "output_type": "stream",
     "text": [
      "Connected by ('127.0.0.1', 62898)\n",
      "Frame 0 verified successfully. Data: \u0000\u0001This is a longer message that will be segmented into smaller packets according to the MAP processing function.\n"
     ]
    }
   ],
   "source": [
    "\"\"\"\n",
    "    USLP TRANSFER FRAME as described in USLP section 4.1\n",
    "    A USLP Transfer Frame shall encompass the major fields, positioned contiguously, in the following sequence:\n",
    "a) Transfer Frame Primary Header (4 to 14 octets, mandatory);\n",
    "b) Transfer Frame Insert Zone (integral number of octets, optional);\n",
    "c) Transfer Frame Data Field (integral number of octets, mandatory);\n",
    "d) Operational Control Field (4 octets, optional); and\n",
    "e) Frame Error Control Field (2 octets, optional).\n",
    "Here I implemented part a,c,e in this code for simplicity and the frame is checked accordingly.\n",
    "This is the receiver code which need to be implemented in one\n",
    "    desktop and the sender code need to be run in another device with proper host and port label which can \n",
    "    secure the connection between the two devices and send data properly.\n",
    "    \"\"\"\n",
    "import socket\n",
    "import crcmod\n",
    "import struct\n",
    "\n",
    "# CRC-16-CCITT function\n",
    "crc16_func = crcmod.predefined.mkPredefinedCrcFun('crc-ccitt-false')\n",
    "\n",
    "def verify_frame(frame):\n",
    "    # Extract the frame count, data, and FECF\n",
    "    frame_count, = struct.unpack('>H', frame[:2])\n",
    "    data = frame[2:-2]  # Exclude frame count and FECF\n",
    "    received_crc, = struct.unpack('>H', frame[-2:])\n",
    "    calculated_crc = crc16_func(frame[:-2])  # Calculate CRC over frame excluding FECF\n",
    "    \n",
    "    # Verify CRC\n",
    "    if received_crc == calculated_crc:\n",
    "        print(f\"Frame {frame_count} verified successfully. Data: {data.decode('utf-8')}\")\n",
    "    else:\n",
    "        print(f\"Frame {frame_count} CRC check failed.\")\n",
    "\n",
    "def receive_uslp_frames(host='localhost', port=12345):\n",
    "    with socket.socket(socket.AF_INET, socket.SOCK_STREAM) as sock:\n",
    "        sock.bind((host, port))\n",
    "        sock.listen()\n",
    "        conn, addr = sock.accept()\n",
    "        with conn:\n",
    "            print('Connected by', addr)\n",
    "            while True:\n",
    "                # Assuming a blocking call to recv() for simplicity\n",
    "                # A real-world scenario would need more robust frame extraction logic\n",
    "                frame = conn.recv(1024)  # Adjust buffer size as needed\n",
    "                if not frame:\n",
    "                    break\n",
    "                verify_frame(frame)\n",
    "                \n",
    "\n",
    "if __name__ == \"__main__\":\n",
    "    receive_uslp_frames()\n"
   ]
  }
 ],
 "metadata": {
  "kernelspec": {
   "display_name": "Python 3 (ipykernel)",
   "language": "python",
   "name": "python3"
  },
  "language_info": {
   "codemirror_mode": {
    "name": "ipython",
    "version": 3
   },
   "file_extension": ".py",
   "mimetype": "text/x-python",
   "name": "python",
   "nbconvert_exporter": "python",
   "pygments_lexer": "ipython3",
   "version": "3.8.5"
  }
 },
 "nbformat": 4,
 "nbformat_minor": 5
}
